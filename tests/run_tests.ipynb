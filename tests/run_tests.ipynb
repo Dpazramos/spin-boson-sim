{
 "cells": [
  {
   "cell_type": "code",
   "execution_count": 1,
   "id": "6c578ec9",
   "metadata": {},
   "outputs": [],
   "source": [
    "import sys\n",
    "import os\n",
    "\n",
    "# Add the parent directory of `src` to sys.path\n",
    "sys.path.append(os.path.abspath(os.path.join(os.getcwd(), '..')))\n",
    "sys.path.append(os.path.abspath(os.path.join(os.getcwd(), '../src')))"
   ]
  },
  {
   "cell_type": "code",
   "execution_count": 2,
   "id": "f235a204",
   "metadata": {},
   "outputs": [
    {
     "name": "stdout",
     "output_type": "stream",
     "text": [
      "Quantum object: dims = [[3], [3]], shape = (3, 3), type = oper, isherm = True\n",
      "Qobj data =\n",
      "[[0. 0. 0.]\n",
      " [0. 1. 0.]\n",
      " [0. 0. 2.]]\n",
      "SparsePauliOp(['II', 'IZ', 'ZI', 'ZZ'],\n",
      "              coeffs=[ 0.75+0.j,  0.25+0.j, -0.25+0.j, -0.75+0.j])\n"
     ]
    }
   ],
   "source": [
    "# 1) Run conversions tests\n",
    "from conversions_test import test_singlequbit_ketbra, test_ketbra, test_qobj_to_sparsepauliop\n",
    "test_singlequbit_ketbra()\n",
    "\n",
    "test_ketbra()\n",
    "\n",
    "test_qobj_to_sparsepauliop()"
   ]
  },
  {
   "cell_type": "code",
   "execution_count": 3,
   "id": "323e5176",
   "metadata": {},
   "outputs": [
    {
     "name": "stdout",
     "output_type": "stream",
     "text": [
      "Testing full JCM Hamiltonian...\n",
      "[[0.        +0.j 0.        +0.j 0.        +0.j 1.        +0.j\n",
      "  0.        +0.j 0.        +0.j 0.        +0.j 0.        +0.j]\n",
      " [0.        +0.j 0.        +0.j 0.        +0.j 0.        +0.j\n",
      "  0.        +0.j 0.        +0.j 0.        +0.j 0.        +0.j]\n",
      " [0.        +0.j 0.        +0.j 0.        +0.j 0.        +0.j\n",
      "  0.        +0.j 1.41421356+0.j 0.        +0.j 0.        +0.j]\n",
      " [1.        +0.j 0.        +0.j 0.        +0.j 0.        +0.j\n",
      "  0.        +0.j 0.        +0.j 0.        +0.j 0.        +0.j]\n",
      " [0.        +0.j 0.        +0.j 0.        +0.j 0.        +0.j\n",
      "  0.        +0.j 0.        +0.j 0.        +0.j 1.73205081+0.j]\n",
      " [0.        +0.j 0.        +0.j 1.41421356+0.j 0.        +0.j\n",
      "  0.        +0.j 0.        +0.j 0.        +0.j 0.        +0.j]\n",
      " [0.        +0.j 0.        +0.j 0.        +0.j 0.        +0.j\n",
      "  0.        +0.j 0.        +0.j 0.        +0.j 0.        +0.j]\n",
      " [0.        +0.j 0.        +0.j 0.        +0.j 0.        +0.j\n",
      "  1.73205081+0.j 0.        +0.j 0.        +0.j 0.        +0.j]]\n",
      "\n",
      "\n",
      "\n",
      "[[0.        +0.j 0.        +0.j 0.        +0.j 1.        +0.j\n",
      "  0.        +0.j 0.        +0.j 0.        +0.j 0.        +0.j]\n",
      " [0.        +0.j 0.        +0.j 0.        +0.j 0.        +0.j\n",
      "  0.        +0.j 0.        +0.j 0.        +0.j 0.        +0.j]\n",
      " [0.        +0.j 0.        +0.j 0.        +0.j 0.        +0.j\n",
      "  0.        +0.j 1.41421356+0.j 0.        +0.j 0.        +0.j]\n",
      " [1.        +0.j 0.        +0.j 0.        +0.j 0.        +0.j\n",
      "  0.        +0.j 0.        +0.j 0.        +0.j 0.        +0.j]\n",
      " [0.        +0.j 0.        +0.j 0.        +0.j 0.        +0.j\n",
      "  0.        +0.j 0.        +0.j 0.        +0.j 1.73205081+0.j]\n",
      " [0.        +0.j 0.        +0.j 1.41421356+0.j 0.        +0.j\n",
      "  0.        +0.j 0.        +0.j 0.        +0.j 0.        +0.j]\n",
      " [0.        +0.j 0.        +0.j 0.        +0.j 0.        +0.j\n",
      "  0.        +0.j 0.        +0.j 0.        +0.j 0.        +0.j]\n",
      " [0.        +0.j 0.        +0.j 0.        +0.j 0.        +0.j\n",
      "  1.73205081+0.j 0.        +0.j 0.        +0.j 0.        +0.j]]\n",
      "test_full_hamilotnian() test passed\n",
      "\n",
      "Testing map_to_qubits...\n",
      "SparsePauliOp(['ZI', 'XX', 'YY'],\n",
      "              coeffs=[ 0.5+0.j,  0.5+0.j, -0.5+0.j])\n",
      "SparsePauliOp(['ZI', 'XX', 'YY'],\n",
      "              coeffs=[ 0.5+0.j,  0.5+0.j, -0.5+0.j])\n",
      "test_map_to_qubits() test passed\n",
      "\n"
     ]
    }
   ],
   "source": [
    "# 2) Run Hamiltonian tests\n",
    "from hamiltonian_test import test_full_hamiltonian,  test_map_to_qubits\n",
    "\n",
    "test_full_hamiltonian()\n",
    "\n",
    "test_map_to_qubits()"
   ]
  }
 ],
 "metadata": {
  "kernelspec": {
   "display_name": "old-qiskit",
   "language": "python",
   "name": "python3"
  },
  "language_info": {
   "codemirror_mode": {
    "name": "ipython",
    "version": 3
   },
   "file_extension": ".py",
   "mimetype": "text/x-python",
   "name": "python",
   "nbconvert_exporter": "python",
   "pygments_lexer": "ipython3",
   "version": "3.10.1"
  }
 },
 "nbformat": 4,
 "nbformat_minor": 5
}
